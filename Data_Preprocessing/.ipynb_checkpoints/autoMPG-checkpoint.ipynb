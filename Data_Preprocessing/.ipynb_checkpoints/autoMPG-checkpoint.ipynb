{
 "cells": [
  {
   "cell_type": "code",
   "execution_count": 1,
   "id": "94bcde94-c5a8-498c-852e-d5fa062fdd79",
   "metadata": {},
   "outputs": [],
   "source": [
    "import numpy as np\n",
    "import pandas as pd\n",
    "from sklearn import preprocessing\n",
    "from sklearn.preprocessing import StandardScaler, MinMaxScaler, Normalizer\n",
    "from sklearn.model_selection import train_test_split"
   ]
  },
  {
   "cell_type": "code",
   "execution_count": null,
   "id": "3213328b-5729-4302-8ea4-9a1e7299c42e",
   "metadata": {},
   "outputs": [],
   "source": [
    "channel_values = open('..\\Datasets\\Diabetes.txt').read().split()"
   ]
  },
  {
   "cell_type": "code",
   "execution_count": null,
   "id": "4a5821f8-51c5-4cf8-b914-bb40ff0a1bb0",
   "metadata": {},
   "outputs": [],
   "source": [
    "data = np.array(channel_values)\n",
    "data = data.reshape(-1, 11)\n",
    "data.shape"
   ]
  },
  {
   "cell_type": "code",
   "execution_count": null,
   "id": "4a06b74e-f4af-4853-b8cf-7bf28a24b88a",
   "metadata": {},
   "outputs": [],
   "source": [
    "headers = data[0,:]\n",
    "headers"
   ]
  },
  {
   "cell_type": "code",
   "execution_count": null,
   "id": "515af181-4177-4d2a-a359-7f820bdf301f",
   "metadata": {},
   "outputs": [],
   "source": [
    "data = np.delete(data, 0, axis = 0)\n",
    "data"
   ]
  },
  {
   "cell_type": "code",
   "execution_count": null,
   "id": "08b7585b-daf5-45ba-9f1a-1982ff4d37ad",
   "metadata": {},
   "outputs": [],
   "source": [
    "df = pd.DataFrame(data, columns = headers)\n",
    "df"
   ]
  },
  {
   "cell_type": "code",
   "execution_count": null,
   "id": "1786444f-023d-4341-bac2-1fa330529ad7",
   "metadata": {},
   "outputs": [],
   "source": [
    "# df.to_csv('..\\Datasets\\Diabetes.csv', index=False)"
   ]
  },
  {
   "cell_type": "code",
   "execution_count": null,
   "id": "1176b2a5-0e38-49a6-903f-5c00be91a076",
   "metadata": {},
   "outputs": [],
   "source": [
    "df = df.dropna()\n",
    "df_subset = df.drop(['Y'], axis=1)\n",
    "df_subset"
   ]
  },
  {
   "cell_type": "code",
   "execution_count": null,
   "id": "97f25772-33f6-4d7e-bc84-2065f9e95446",
   "metadata": {},
   "outputs": [],
   "source": [
    "data = df_subset\n",
    "labels_true = df[['Y']]\n",
    "scaler = StandardScaler()\n",
    "\n",
    "for i in range(100):\n",
    "    X_train, X_test, y_train, y_test = train_test_split(data, labels_true, test_size=0.2)\n",
    "    X_train = scaler.fit_transform(X_train.values.astype(np.float32))\n",
    "    X_test = scaler.transform(X_test.values.astype(np.float32))\n",
    "    \n",
    "    np.save(\"..\\datasets\\Diabetes\\\\X_train\" + str(i) +\".npy\", X_train)\n",
    "    np.save(\"..\\datasets\\Diabetes\\\\X_test\" + str(i) +\".npy\", X_test)\n",
    "    np.save(\"..\\datasets\\Diabetes\\\\y_train\" + str(i) +\".npy\", y_train)\n",
    "    np.save(\"..\\datasets\\Diabetes\\\\y_test\" + str(i) +\".npy\", y_test)"
   ]
  },
  {
   "cell_type": "code",
   "execution_count": null,
   "id": "9b73318a-819c-421a-9d20-8850fca8f43d",
   "metadata": {},
   "outputs": [],
   "source": [
    "seed_rf = np.random.randint(100, size=100)\n",
    "seed_initial = np.random.randint(100, size=100)\n",
    "seed_nn_1 = np.random.randint(100, size=100)\n",
    "seed_nn_2 = np.random.randint(100, size=100)\n",
    "seed_nn_3 = np.random.randint(100, size=100)\n",
    "\n",
    "np.save(file=\"..\\datasets\\Diabetes\\seed_for_RF.npy\", arr=seed_rf)\n",
    "np.save(file=\"..\\datasets\\Diabetes\\seed_for_initialSamples.npy\", arr=seed_initial)\n",
    "np.save(file=\"..\\datasets\\Diabetes\\seed_for_nn1.npy\", arr=seed_nn_1)\n",
    "np.save(file=\"..\\datasets\\Diabetes\\seed_for_nn2.npy\", arr=seed_nn_2)\n",
    "np.save(file=\"..\\datasets\\Diabetes\\seed_for_nn3.npy\", arr=seed_nn_3)"
   ]
  },
  {
   "cell_type": "code",
   "execution_count": 7,
   "id": "99b217f2-6c21-4147-a49e-1b6fa3ca3a1d",
   "metadata": {},
   "outputs": [
    {
     "name": "stdout",
     "output_type": "stream",
     "text": [
      "Iteration: 0\n",
      "Iteration: 1\n",
      "Iteration: 2\n",
      "Iteration: 3\n",
      "Iteration: 4\n",
      "Iteration: 5\n",
      "Iteration: 6\n",
      "Iteration: 7\n",
      "Iteration: 8\n",
      "Iteration: 9\n",
      "Iteration: 10\n",
      "Iteration: 11\n",
      "Iteration: 12\n",
      "Iteration: 13\n",
      "Iteration: 14\n",
      "Iteration: 15\n",
      "Iteration: 16\n",
      "Iteration: 17\n",
      "Iteration: 18\n",
      "Iteration: 19\n"
     ]
    }
   ],
   "source": [
    "from sklearn import preprocessing\n",
    "from sklearn.ensemble import RandomForestRegressor\n",
    "from sklearn.metrics import r2_score, mean_squared_error\n",
    "import numpy as np\n",
    "import pandas as pd\n",
    "\n",
    "total_test_r2 = []\n",
    "total_test_mse = []\n",
    "\n",
    "iteration = 20\n",
    "\n",
    "seed_rf = np.load(file=\"..\\datasets\\Diabetes\\seed_for_RF.npy\")\n",
    "\n",
    "for iters in range(iteration):\n",
    "    print(\"Iteration:\", iters)\n",
    "    name1 = \"..\\datasets\\Diabetes\\X_train\" + str(iters) + \".npy\"\n",
    "    name2 = \"..\\datasets\\Diabetes\\X_test\" + str(iters) + \".npy\"\n",
    "    name3 = \"..\\datasets\\Diabetes\\y_train\" + str(iters) + \".npy\"\n",
    "    name4 = \"..\\datasets\\Diabetes\\y_test\" + str(iters) + \".npy\"\n",
    "    \n",
    "    X_train = np.load(name1, allow_pickle=True).astype(np.float32)\n",
    "    X_test = np.load(name2, allow_pickle=True).astype(np.float32)\n",
    "    y_train = np.load(name3, allow_pickle=True).astype(np.float32).reshape(-1, 1)\n",
    "    y_test = np.load(name4, allow_pickle=True).astype(np.float32).reshape(-1, 1)\n",
    "    # print(X_train.shape)\n",
    "    # print(X_test.shape)\n",
    "    # print(y_train.shape)\n",
    "    # print(y_test.shape)\n",
    "    \n",
    "    estimator=RandomForestRegressor(n_estimators=100, random_state=seed_rf[iters])\n",
    "    estimator.fit(X_train, y_train.ravel())\n",
    "    prediction_=estimator.predict(X_test)\n",
    "    \n",
    "    total_test_r2.append(r2_score(y_test, prediction_))\n",
    "    total_test_mse.append(mean_squared_error(y_test, prediction_))"
   ]
  },
  {
   "cell_type": "code",
   "execution_count": 8,
   "id": "55e66ab2-26a3-408d-a0f5-3ec443b1f42f",
   "metadata": {},
   "outputs": [
    {
     "name": "stdout",
     "output_type": "stream",
     "text": [
      "Median R2: 0.4472695124768752\n",
      "Median RMSE: 56.717463608226886\n"
     ]
    }
   ],
   "source": [
    "print(\"Median R2:\", np.mean(np.array(total_test_r2)))\n",
    "print(\"Median RMSE:\", np.mean(np.sqrt(np.array(total_test_mse))))"
   ]
  },
  {
   "cell_type": "code",
   "execution_count": null,
   "id": "c6dc3071-5c7d-403f-b628-1059dc1a259c",
   "metadata": {},
   "outputs": [],
   "source": []
  }
 ],
 "metadata": {
  "kernelspec": {
   "display_name": "Python 3 (ipykernel)",
   "language": "python",
   "name": "python3"
  },
  "language_info": {
   "codemirror_mode": {
    "name": "ipython",
    "version": 3
   },
   "file_extension": ".py",
   "mimetype": "text/x-python",
   "name": "python",
   "nbconvert_exporter": "python",
   "pygments_lexer": "ipython3",
   "version": "3.9.13"
  }
 },
 "nbformat": 4,
 "nbformat_minor": 5
}
